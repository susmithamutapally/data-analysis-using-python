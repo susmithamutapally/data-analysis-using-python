{
  "cells": [
    {
      "cell_type": "markdown",
      "metadata": {
        "id": "Krelpq1L8ALc"
      },
      "source": [
        "### Strings, Numerics, Booleans, if-then-else"
      ]
    },
    {
      "cell_type": "markdown",
      "metadata": {
        "id": "YW1xsu3O8ALe"
      },
      "source": [
        "Create a variable named `greeting` that contains the string 'hello world'. Print the variable `greeting`."
      ]
    },
    {
      "cell_type": "code",
      "execution_count": 19,
      "metadata": {
        "colab": {
          "base_uri": "https://localhost:8080/"
        },
        "collapsed": true,
        "id": "uxc_QHpX8ALe",
        "outputId": "f966a319-cf25-4b52-eb43-d18491ed97ad"
      },
      "outputs": [
        {
          "name": "stdout",
          "output_type": "stream",
          "text": [
            "hello world\n"
          ]
        }
      ],
      "source": [
        "greeting = \"hello world\"\n",
        "print(greeting)"
      ]
    },
    {
      "cell_type": "markdown",
      "metadata": {
        "id": "h7nBrNpA8ALh"
      },
      "source": [
        "Write Boolean expressions for the following.\n",
        "\n",
        "* Can a student graduate? A student can graduate after completing at least 120 credits, and has registered for at least 6 semesters ."
      ]
    },
    {
      "cell_type": "code",
      "execution_count": 18,
      "metadata": {
        "colab": {
          "base_uri": "https://localhost:8080/"
        },
        "collapsed": true,
        "id": "TcG5NcrH8ALi",
        "outputId": "8b7e39bf-2614-4180-a450-71043816adc2"
      },
      "outputs": [
        {
          "data": {
            "text/plain": [
              "False"
            ]
          },
          "execution_count": 18,
          "metadata": {},
          "output_type": "execute_result"
        }
      ],
      "source": [
        "semesters = 6 \n",
        "credits = 100 \n",
        "(semesters>= 6 & credits >= 120)"
      ]
    },
    {
      "cell_type": "markdown",
      "metadata": {
        "id": "Mtz6sxlq8ALi"
      },
      "source": [
        "* Can I register today? A student can register on Monday if Senior, on Tuesday if Junior, on Wednesday if Sophomore, and on Thursday if Freshman."
      ]
    },
    {
      "cell_type": "code",
      "execution_count": 25,
      "metadata": {
        "colab": {
          "base_uri": "https://localhost:8080/"
        },
        "collapsed": true,
        "id": "yJbGNvsA8ALi",
        "outputId": "e761cb69-a72e-465d-a471-225cfa1c3c99"
      },
      "outputs": [
        {
          "name": "stdout",
          "output_type": "stream",
          "text": [
            "You cannot register today.\n"
          ]
        }
      ],
      "source": [
        "status = 'Senior' #also 'Junior', 'Sophomore', 'Freshman'\n",
        "days = 'Tuesday' #also 'Monday', 'Tuesday', 'Wednesday', 'Thurday', 'Friday', 'Saturday'\n",
        "\n",
        "if (status == 'Senior' and day == 'Monday') or \\\n",
        "   (status == 'Junior' and day == 'Tuesday') or \\\n",
        "   (status == 'Sophomore' and day == 'Wednesday') or \\\n",
        "   (status == 'Freshman' and day == 'Thursday'):\n",
        "    print(\"You can register today.\")\n",
        "else:\n",
        "    print(\"You cannot register today.\")\n"
      ]
    },
    {
      "cell_type": "markdown",
      "metadata": {
        "id": "g-meNUPdutyv"
      },
      "source": []
    },
    {
      "cell_type": "markdown",
      "metadata": {
        "id": "kDMOa_HQ8ALj"
      },
      "source": [
        "You are given two articles below, regarding North and South Korea. The `article1` is from [Reuters](http://www.reuters.com/article/us-un-assembly-southkorea-northkorea-idUSKCN11T04N) and `article2` is from [Korea Herald](http://www.koreaherald.com/view.php?ud=20160923000173).\n",
        "\n",
        "* (1pts) Compute the length of each article in characters.\n",
        "* (1pts) Compute the length of each article length in words.\n",
        "* (1pts) Compute the length of each article in sentences. Assume that the period `.` is the separator between sentences.\n",
        "* (1pts) What is the average length of each sentence in words, for each article?\n",
        "* (2pts) Is `Obama` mentioned in `article1`? Is `Obama` mentioned in `article2`?\n",
        "* (2pts) How many times is `Korea` mentioned in in `article1` and how many times in `article2`? It is fine if your code also counts `Korean`.\n",
        "\n",
        "Do not worry about perfectly separating words, etc. Splitting on space for identifying the words is more than sufficient to get full credit."
      ]
    },
    {
      "cell_type": "code",
      "execution_count": 3,
      "metadata": {
        "collapsed": true,
        "id": "RTzel0V58ALj"
      },
      "outputs": [],
      "source": [
        "article1 = \"\"\" South Korean Foreign Minister Yun Byung-se accused North Korea on Thursday of \"totally ridiculing\" the authority of the United Nations through its nuclear and missile tests ad said it was tie to reconsider whether it was qualified for UN membership.   In an address to the annual United Nations General Assembly, Yun said the UN security Council should adopt \"stronger, comprehensive\" sanctions on North Korea after its fifth nuclear test on Sept 9 and close loopholes in existing measures.   \"North Korea's repeated violations and non-compliance of Security Council resolutions and international norms is unprecedented and has no parallel in the history of the UN\", Yun said.   \"North Korea is totally ridiculing the authority of the General Assembly and the Security Council,\" he said.   \"Therefore, I believe it is high time to seriously reconsider whether North Korea is qualified as a peace-loving UN member, as many countries are already questioning\".    Yun said North Korea had not only advanced its nuclear and missile capacity, but publicly threatened to use those weapons preemptively.   He said it was the \"last chance\" to put a brake on its nuclear ambitions.   Yun also called for action against North Korea's violations of the rights of its own people, and said there should be greater focus on North Korean workers abroad and the possible diversion of their wages to weapons programs.   Discussions are already under way on a possible new UN sanctions resolution on North Korea after its latest nuclear test.   Analysts and diplomats say much depends on China's attitude.   China is North Korea's main ally, but has been angered by its repeated missile and nuclear tests and backed tough UN sanctions on Pyongyang in March.   At the same time, it has repeatedly called for a return to international talks to resolve the issue, in spite of the skepticism of other world powers.   Chinese Premier Li Keqiang told the General Assembly on Wednesday countries must remain committed to denuclearization of the Korean peninsula, while seeking a solution to the North Korean nuclear issue through dialogue.   The United States said Li and US President Barack Obama agreed in New York on Monday to step up cooperation in the UN Security Council and in law enforcement channels Japanese Prime Minister Shinzo Abe said on Wednesday the threat posed by North Korea was \"substantially more serious\" than in the past and demanded an \"entirely distinct\" response.\"\"\"\n",
        "article2 = \"\"\" The UN Security Council should go beyond simply discussing North Korea's human rights violations and take \"meaningful action,\" South Korean Foreign Minister Yun Byung-se said Thursday, as the council is considering fresh sanctions on Pyongyang for its fifth nuclear test.  Yun made the remark during a meeting with South Korean correspondents in New York, saying the North's human rights abuses will be one of the key focuses of an address he was scheduled to deliver at the UN General Assembly later in the day.  Yun said it makes no sense for the North to ask for international aid to cope with the aftermath of a massive flood after wasting money on a nuclear test.  \"North Korea cares nothing about people's hardships while wasting an enormous amount of money.  I will strongly point out these dual attitudes and the North's disregard for human rights at the United Nations,\" Yun told reporters Yun's remarks came as the Security Council has been working on new sanctions on the North for its Sept 9 nuclear test, and suggest that a new sanctions package could include measures with regard to Pyongyang's human rights violations.  A senior government official also said on condition of anonymity that the Security Council might impose sanctions not only over the North's nuclear and missile programs, but also over its human rights abuses.  The official spoke on condition of anonymity.  The official also said a new sanctions resolution is expected to be adopted in a shorter period of time than after the North's fourth nuclear test in January when it took 57 days to adopt a resolution.  \"I expect an additional resolution will be adopted within a reasonable period of time,\" the official said.  The official also said that the previous resolution, considered the toughest sanctions on the North ever, is having considerable effects on the North.  The US is also expected to take additional unilateral sanctions on Pyongyang, too, the official said.  The official said it's not the right time to hold negotiations with the North because it could justify the North's bad behavior.  The UN General Assembly adopted a landmark resolution calling for referring the issue to the International Criminal Court for two years in a row in 2014 and last year.  Under the resolutions, the Security Council also held discussions on the issue twice.  While in New York, Yun said he has held meetings with various US figures that could lead the security and foreign policy in the next US administration.  He did not provide further specifics, including who those people were, and which campaign they're with.  Yun said that he stressed in those meetings that the Korea-US alliance is a key pillar in the Asia-Pacific region and a core point of the rebalancing toward Asia-Pacific, and that the Korea-US free trade agreement has contributed greatly to enhancing mutual interests of the two countries.\"\"\""
      ]
    },
    {
      "cell_type": "code",
      "execution_count": 5,
      "metadata": {
        "colab": {
          "base_uri": "https://localhost:8080/"
        },
        "collapsed": true,
        "id": "R95tTLlz8ALo",
        "outputId": "1ef3ee3d-2ba8-405d-8abf-52ae77109b18"
      },
      "outputs": [
        {
          "name": "stdout",
          "output_type": "stream",
          "text": [
            "Length of article 1: 2465 characters\n",
            "Length of article 2: 2892 characters\n"
          ]
        }
      ],
      "source": [
        "# Compute the length of each article in characters.\n",
        "length_article1 = len(article1)\n",
        "length_article2 = len(article2)\n",
        "\n",
        "print(\"Length of article 1:\", length_article1, \"characters\")\n",
        "print(\"Length of article 2:\", length_article2, \"characters\")"
      ]
    },
    {
      "cell_type": "code",
      "execution_count": 6,
      "metadata": {
        "colab": {
          "base_uri": "https://localhost:8080/"
        },
        "collapsed": true,
        "id": "VCdDyGrI8ALr",
        "outputId": "72304749-e60f-4386-9bb9-c2f5f8eca1b3"
      },
      "outputs": [
        {
          "name": "stdout",
          "output_type": "stream",
          "text": [
            "Word count of article 1: 394\n",
            "Word count of article 2: 476\n"
          ]
        }
      ],
      "source": [
        "# Compute the length of each article length in words.\n",
        "word_count_article1 = len(article1.split())\n",
        "word_count_article2 = len(article2.split())\n",
        "\n",
        "print(\"Word count of article 1:\", word_count_article1)\n",
        "print(\"Word count of article 2:\", word_count_article2)"
      ]
    },
    {
      "cell_type": "code",
      "execution_count": 7,
      "metadata": {
        "colab": {
          "base_uri": "https://localhost:8080/"
        },
        "collapsed": true,
        "id": "c_cEzfTf8ALs",
        "outputId": "4262a88b-891c-4fc6-83f8-f545a1d4e6fb"
      },
      "outputs": [
        {
          "name": "stdout",
          "output_type": "stream",
          "text": [
            "Sentence count of article 1: 15\n",
            "Sentence count of article 2: 18\n"
          ]
        }
      ],
      "source": [
        "# Compute the length of each article in sentences. Assume that the period . is the separator between sentences.\n",
        "sentence_count_article1 = len(article1.split('.'))\n",
        "sentence_count_article2 = len(article2.split('.'))\n",
        "\n",
        "print(\"Sentence count of article 1:\", sentence_count_article1)\n",
        "print(\"Sentence count of article 2:\", sentence_count_article2)"
      ]
    },
    {
      "cell_type": "code",
      "execution_count": 8,
      "metadata": {
        "colab": {
          "base_uri": "https://localhost:8080/"
        },
        "collapsed": true,
        "id": "I0QpMFbK8ALs",
        "outputId": "52ebdc5d-8797-4f83-82d7-068e2387b116"
      },
      "outputs": [
        {
          "name": "stdout",
          "output_type": "stream",
          "text": [
            "Average sentence length in words for article 1: 26.266666666666666\n",
            "Average sentence length in words for article 2: 26.444444444444443\n"
          ]
        }
      ],
      "source": [
        "# What is the average length of each sentence in words, for each article?\n",
        "# Split articles into sentences\n",
        "sentences_article1 = article1.split('.')\n",
        "sentences_article2 = article2.split('.')\n",
        "\n",
        "# Compute word count for each article\n",
        "word_count_article1 = sum(len(sentence.split()) for sentence in sentences_article1)\n",
        "word_count_article2 = sum(len(sentence.split()) for sentence in sentences_article2)\n",
        "\n",
        "# Compute average length of each sentence in words\n",
        "average_length_article1 = word_count_article1 / len(sentences_article1)\n",
        "average_length_article2 = word_count_article2 / len(sentences_article2)\n",
        "\n",
        "print(\"Average sentence length in words for article 1:\", average_length_article1)\n",
        "print(\"Average sentence length in words for article 2:\", average_length_article2)"
      ]
    },
    {
      "cell_type": "code",
      "execution_count": 9,
      "metadata": {
        "colab": {
          "base_uri": "https://localhost:8080/"
        },
        "collapsed": true,
        "id": "pinZZJF38ALs",
        "outputId": "2dda618a-e515-477d-ba63-d90a8fa09b1a"
      },
      "outputs": [
        {
          "name": "stdout",
          "output_type": "stream",
          "text": [
            "Obama is mentioned in article1.\n",
            "Obama is not mentioned in article2.\n"
          ]
        }
      ],
      "source": [
        "# Is Obama mentioned in article1? Is Obama mentioned in article2?\n",
        "# Check if \"Obama\" is mentioned in article1\n",
        "if \"Obama\" in article1:\n",
        "    print(\"Obama is mentioned in article1.\")\n",
        "else:\n",
        "    print(\"Obama is not mentioned in article1.\")\n",
        "\n",
        "# Check if \"Obama\" is mentioned in article2\n",
        "if \"Obama\" in article2:\n",
        "    print(\"Obama is mentioned in article2.\")\n",
        "else:\n",
        "    print(\"Obama is not mentioned in article2.\")\n"
      ]
    },
    {
      "cell_type": "code",
      "execution_count": 10,
      "metadata": {
        "colab": {
          "base_uri": "https://localhost:8080/"
        },
        "collapsed": true,
        "id": "nZp3L-Y_8ALs",
        "outputId": "fa0af144-e840-4419-edd5-318b65844611"
      },
      "outputs": [
        {
          "name": "stdout",
          "output_type": "stream",
          "text": [
            "Number of times 'Korea' is mentioned in article1: 14\n",
            "Number of times 'Korea' is mentioned in article2: 6\n"
          ]
        }
      ],
      "source": [
        "# How many times is Korea mentioned in in article1 and how many times in article2?\n",
        "# Count the occurrences of \"Korea\" in article1\n",
        "count_article1 = article1.count(\"Korea\")\n",
        "print(\"Number of times 'Korea' is mentioned in article1:\", count_article1)\n",
        "\n",
        "# Count the occurrences of \"Korea\" in article2\n",
        "count_article2 = article2.count(\"Korea\")\n",
        "print(\"Number of times 'Korea' is mentioned in article2:\", count_article2)"
      ]
    },
    {
      "cell_type": "markdown",
      "metadata": {
        "id": "8ZFO9T048ALt"
      },
      "source": [
        "Course grade \n",
        "\n",
        "Write a program to prompt for a score between 0.0 and 1.0. If the\n",
        "score is out of range, print an error message. If the score is between 0.0 and 1.0,\n",
        "print a grade using the following table:\n",
        "\n",
        "```\n",
        "Score   Grade\n",
        ">1      Error: Too big\n",
        ">=0.9   A\n",
        ">=0.8   B\n",
        ">=0.7   C\n",
        ">=0.6   D\n",
        "<0.6    F\n",
        "<0      Error: Too small\n",
        "```"
      ]
    },
    {
      "cell_type": "code",
      "execution_count": 17,
      "metadata": {
        "colab": {
          "base_uri": "https://localhost:8080/"
        },
        "collapsed": true,
        "id": "yYdXjZVo8ALt",
        "outputId": "fc5cc2ba-c485-4bf0-e549-b87a49bf0d9f"
      },
      "outputs": [
        {
          "name": "stdout",
          "output_type": "stream",
          "text": [
            "Enter a score between 0.0 and 1.0: 0.9\n",
            "Grade: A\n"
          ]
        }
      ],
      "source": [
        "score = float(input(\"Enter a score between 0.0 and 1.0: \"))\n",
        "\n",
        "if score > 1.0:\n",
        "    print(\"Please choose a score less than 1\")\n",
        "elif score >= 0.9:\n",
        "    print(\"Grade: A\")\n",
        "elif score >= 0.8:\n",
        "    print(\"Grade: B\")\n",
        "elif score >= 0.7:\n",
        "    print(\"Grade: C\")\n",
        "elif score >= 0.6:\n",
        "    print(\"Grade: D\")\n",
        "elif score >= 0:\n",
        "    print(\"Grade: F\")\n",
        "else:\n",
        "    print(\"Please choose a score greater than 0\")\n"
      ]
    }
  ],
  "metadata": {
    "colab": {
      "provenance": []
    },
    "kernelspec": {
      "display_name": "Python 3",
      "language": "python",
      "name": "python3"
    },
    "language_info": {
      "codemirror_mode": {
        "name": "ipython",
        "version": 3
      },
      "file_extension": ".py",
      "mimetype": "text/x-python",
      "name": "python",
      "nbconvert_exporter": "python",
      "pygments_lexer": "ipython3",
      "version": "3.5.2"
    }
  },
  "nbformat": 4,
  "nbformat_minor": 0
}
